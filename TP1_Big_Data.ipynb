{
  "nbformat": 4,
  "nbformat_minor": 0,
  "metadata": {
    "kernelspec": {
      "display_name": "Python 2",
      "language": "python",
      "name": "python2"
    },
    "language_info": {
      "mimetype": "text/x-python",
      "name": "python",
      "pygments_lexer": "ipython2",
      "codemirror_mode": {
        "name": "ipython",
        "version": 2
      },
      "version": "2.7.9",
      "nbconvert_exporter": "python",
      "file_extension": ".py"
    },
    "name": "1-python",
    "notebookId": 3047179637077656,
    "colab": {
      "name": "TP1_Big_Data.ipynb",
      "provenance": [],
      "collapsed_sections": []
    }
  },
  "cells": [
    {
      "cell_type": "markdown",
      "metadata": {
        "id": "UsbuB0aetRGj"
      },
      "source": [
        "# Notebook 1: Python Overview\n",
        "\n",
        "## Motivations\n",
        "\n",
        "Spark provides multiple *Application Programming Interfaces* (API), i.e. the interface allowing the user to interact with the application. The main APIs are [Scala](http://spark.apache.org/docs/latest/api/scala/index.html#org.apache.spark.package) and [Java](http://spark.apache.org/docs/latest/api/java/index.html) APIs, as Spark is implemented in Scala and runs on the Java Virtual Machine (JVM).\n",
        "Since the 0.7.0 version, a [Python API](http://spark.apache.org/docs/latest/api/python/index.html) is available, also known as PySpark. An [R API](http://spark.apache.org/docs/latest/api/R/index.html) has been released with 1.5.0 version. During this course, you will be using Spark 2.4.4.\n",
        "\n",
        "Throughout this course we will use the Python API for the following reasons:\n",
        "- R API is still too young and limited to be relied on. Besides, R can quickly become a living hell when using immature libraries.\n",
        "- Many of you are wanabee datascientists, and Python is a must-know language in data industry.\n",
        "- Scala and Java APIs would have been quite hard to learn given the length of the course and your actual programming skills.\n",
        "- Python is easy to learn, and even easier if you are already familiar with R.\n",
        "\n",
        "The goal of this session is to teach (or remind) you the syntax of basic operations, control structures and declarations in Python that will be useful as datascientist. Keep in mind that we do not have a lot of time, and that you should be able to create functions and classes and to manipulate them at the end of the lab. If you don't get that, the rest of the course will be hard to follow. Don't hesitate to ask for explanations and/or more exercises if you don't feel  confident enough at the end of the lab.\n",
        "\n",
        "**Note:** Python comes in two flavours, Python 2 and Python 3. Python 2 is now officially deprecated so there is no longer any support. However, a lot of companies have still a lot of code in Python 2 (Tensorflow only supports python 3 since 2019 and Google is well known for his extensive use of Python 2). In this course, we will use Python 3 rather than Python 2. Note that if you know Python 2, learning Python 3 will be lightning-fast.\n",
        "For those who are interested, you can quickly learn Python 3 syntax [over here](https://learnxinyminutes.com/docs/python3/) or find some [cheatsheets](http://ptgmedia.pearsoncmg.com/imprint_downloads/informit/promotions/python/python2python3.pdf) highlighting the differences between the two versions. Spark Python API is compatible with Python 3 since Spark 1.4.0.\n",
        "\n",
        "When you look at stackoverflow, please be aware that they might share snippets of code in another python version and that you might need to translate them. So no stupid copy-paste.\n",
        "\n",
        "*This introduction relies on [Learn Python in Y minutes](https://learnxinyminutes.com/docs/python/)*\n",
        "\n",
        "## Introduction\n",
        "\n",
        "Python is a high level, general-purpose interpreted language. Python is meant to be very concise and readable, it is thus a very pleasant language to work with. \n",
        "\n",
        "## 1. Primitive Datatypes and Operators\n",
        "Read section 1 of [Learn python in Y Minutes](https://learnxinyminutes.com/docs/python/) (if you already know Python, you can skip this step). Then, replace `???` in the following cells with your code to answer the questions. To get started, please run the following cell."
      ]
    },
    {
      "cell_type": "markdown",
      "metadata": {
        "id": "xaJAXdwatRHB"
      },
      "source": [
        "Compute 4 + 8"
      ]
    },
    {
      "cell_type": "code",
      "execution_count": 96,
      "metadata": {
        "colab": {
          "base_uri": "https://localhost:8080/"
        },
        "id": "kxvDBoUltRHD",
        "outputId": "838823d3-cb60-4755-8a49-58473d02a279"
      },
      "outputs": [
        {
          "output_type": "execute_result",
          "data": {
            "text/plain": [
              "12"
            ]
          },
          "metadata": {},
          "execution_count": 96
        }
      ],
      "source": [
        "4+8"
      ]
    },
    {
      "cell_type": "markdown",
      "metadata": {
        "id": "uumGlRjUtRHQ"
      },
      "source": [
        "Compute 4 * 8"
      ]
    },
    {
      "cell_type": "code",
      "execution_count": 97,
      "metadata": {
        "colab": {
          "base_uri": "https://localhost:8080/"
        },
        "id": "V88uqJeatRHS",
        "outputId": "e2925d47-6261-47b4-cdfd-2d52495888d4"
      },
      "outputs": [
        {
          "output_type": "execute_result",
          "data": {
            "text/plain": [
              "32"
            ]
          },
          "metadata": {},
          "execution_count": 97
        }
      ],
      "source": [
        "4*8"
      ]
    },
    {
      "cell_type": "markdown",
      "metadata": {
        "id": "iFsOahCatRHd"
      },
      "source": [
        "Compute 4 / 8 (using the regular division operation, not integer division)"
      ]
    },
    {
      "cell_type": "code",
      "execution_count": 98,
      "metadata": {
        "colab": {
          "base_uri": "https://localhost:8080/"
        },
        "id": "TolXN7L5tRHg",
        "outputId": "9a489557-fa3b-4f88-cd1e-b31d598d8200"
      },
      "outputs": [
        {
          "output_type": "execute_result",
          "data": {
            "text/plain": [
              "0.5"
            ]
          },
          "metadata": {},
          "execution_count": 98
        }
      ],
      "source": [
        "4/8"
      ]
    },
    {
      "cell_type": "markdown",
      "metadata": {
        "id": "aR7xMjOmnBhV"
      },
      "source": [
        "Compute $4^8$"
      ]
    },
    {
      "cell_type": "code",
      "execution_count": 99,
      "metadata": {
        "colab": {
          "base_uri": "https://localhost:8080/"
        },
        "id": "_KUTpnBsnBhW",
        "outputId": "8057a1c2-9e95-4bdd-b302-6970d48699b1"
      },
      "outputs": [
        {
          "output_type": "execute_result",
          "data": {
            "text/plain": [
              "12"
            ]
          },
          "metadata": {},
          "execution_count": 99
        }
      ],
      "source": [
        "4^8"
      ]
    },
    {
      "cell_type": "markdown",
      "metadata": {
        "id": "BDOxUKpjtRHy"
      },
      "source": [
        "Check if the variable `foo` is None:"
      ]
    },
    {
      "cell_type": "code",
      "execution_count": 100,
      "metadata": {
        "colab": {
          "base_uri": "https://localhost:8080/"
        },
        "id": "1KIB_tlwtRH0",
        "outputId": "97ec823a-de59-49bb-a8fb-e9910133fddf"
      },
      "outputs": [
        {
          "output_type": "stream",
          "name": "stdout",
          "text": [
            "None\n"
          ]
        }
      ],
      "source": [
        "foo = None\n",
        "print(foo)"
      ]
    },
    {
      "cell_type": "markdown",
      "metadata": {
        "collapsed": true,
        "id": "t1lgdo-BtRH-"
      },
      "source": [
        "## 2. Variables and Collections\n",
        "Same as before, read the corresponding section, and answer the questions below.\n",
        "\n",
        "Now you're asked to `print` your results instead of just output them.\n",
        "\n",
        "Please always remember that there is a difference between the output of your code (which is the result of the last executed line) and the printed output."
      ]
    },
    {
      "cell_type": "code",
      "execution_count": 152,
      "metadata": {
        "colab": {
          "base_uri": "https://localhost:8080/"
        },
        "id": "etsjK8hRnBhY",
        "outputId": "0d723cfc-4923-44fe-e3c0-2fbdaeee7782"
      },
      "outputs": [
        {
          "output_type": "stream",
          "name": "stdout",
          "text": [
            "This is a text\n"
          ]
        }
      ],
      "source": [
        "txt = \"This is a text\"\n",
        "print(txt)\n",
        "new_txt = \"This is another text\" # assignment doesn't return anything"
      ]
    },
    {
      "cell_type": "code",
      "source": [
        "# Try uncommenting the following lines to check your understanding\n",
        "del txt # return the value of txt\n",
        "print(txt)\n",
        "del new_txt # return the value of new_txt\n",
        "print(new_txt)"
      ],
      "metadata": {
        "id": "MtW776OiplxK"
      },
      "execution_count": null,
      "outputs": []
    },
    {
      "cell_type": "code",
      "execution_count": 104,
      "metadata": {
        "colab": {
          "base_uri": "https://localhost:8080/"
        },
        "id": "4HRJAJZTtRH_",
        "outputId": "c57c47c9-a2ba-4291-d8eb-61e422132fa8"
      },
      "outputs": [
        {
          "output_type": "execute_result",
          "data": {
            "text/plain": [
              "float"
            ]
          },
          "metadata": {},
          "execution_count": 104
        }
      ],
      "source": [
        "# Declare a variable containing a float of your choice and print it\n",
        "# From now on, when you will be asked to print something, please use the print statement.\n",
        "x = 0.77927; type(x)"
      ]
    },
    {
      "cell_type": "code",
      "execution_count": 106,
      "metadata": {
        "colab": {
          "base_uri": "https://localhost:8080/"
        },
        "id": "baIJHJcytRIF",
        "outputId": "d2823de7-15b6-4e5d-ef29-db9ea3c5e160"
      },
      "outputs": [
        {
          "output_type": "stream",
          "name": "stdout",
          "text": [
            "['Hello', 'Sun', 'Winter', 5]\n"
          ]
        }
      ],
      "source": [
        "# Create a list containing strings and store it in a variable\n",
        "l = ['Hello', 'Sun'] \n",
        "# Append a new string to this list\n",
        "l.append('Winter')\n",
        "# Append an integer to this list and print it\n",
        "l.append(5)\n",
        "print(l)"
      ]
    },
    {
      "cell_type": "markdown",
      "metadata": {
        "id": "JvyO8q5AtRIM"
      },
      "source": [
        "Note that the modifications on list objects are performed inplace, i.e.\n",
        "\n",
        "    li = [1, 2, 3]\n",
        "    li.append(4)\n",
        "    li  # => [1, 2, 3, 4]"
      ]
    },
    {
      "cell_type": "code",
      "execution_count": 107,
      "metadata": {
        "colab": {
          "base_uri": "https://localhost:8080/"
        },
        "id": "aY3ZCgaKtRIO",
        "outputId": "4f1f18f7-b3d5-4051-c00c-8421f1209f66"
      },
      "outputs": [
        {
          "output_type": "stream",
          "name": "stdout",
          "text": [
            "['Hello', 'Sun', 'Winter']\n"
          ]
        }
      ],
      "source": [
        "# Mixing types inside a list object can be a bad idea depending on the situation.\n",
        "# Remove the integer you just inserted in the list and print it\n",
        "l.remove(5)\n",
        "print(l)"
      ]
    },
    {
      "cell_type": "code",
      "execution_count": 108,
      "metadata": {
        "colab": {
          "base_uri": "https://localhost:8080/"
        },
        "id": "ZZj4QAb7tRIU",
        "outputId": "c8b774b4-05d1-4de6-a277-b819f76070a8"
      },
      "outputs": [
        {
          "output_type": "stream",
          "name": "stdout",
          "text": [
            "Sun\n"
          ]
        }
      ],
      "source": [
        "# Print the second element of the list\n",
        "print(l[1])"
      ]
    },
    {
      "cell_type": "code",
      "execution_count": 109,
      "metadata": {
        "colab": {
          "base_uri": "https://localhost:8080/"
        },
        "id": "3rqJITwSnBhb",
        "outputId": "f239945d-145e-4403-bf25-b365281e4a2e"
      },
      "outputs": [
        {
          "output_type": "stream",
          "name": "stdout",
          "text": [
            "42.57\n"
          ]
        },
        {
          "output_type": "execute_result",
          "data": {
            "text/plain": [
              "42.56"
            ]
          },
          "metadata": {},
          "execution_count": 109
        }
      ],
      "source": [
        "x = 42.567\n",
        "# Print x with only two decimal (rounding)\n",
        "print(round(x, 2))\n",
        "# Print x with only two decimal (trunking)\n",
        "import math\n",
        "\n",
        "def truncate(number, decimals=0):\n",
        "    \"\"\"\n",
        "    Returns a value truncated to a specific number of decimal places.\n",
        "    \"\"\"\n",
        "    if not isinstance(decimals, int):\n",
        "        raise TypeError(\"decimal places must be an integer.\")\n",
        "    elif decimals < 0:\n",
        "        raise ValueError(\"decimal places has to be 0 or more.\")\n",
        "    elif decimals == 0:\n",
        "        return math.trunc(number)\n",
        "\n",
        "    factor = 10.0 ** decimals\n",
        "    return math.trunc(number * factor) / factor\n",
        "    \n",
        "truncate(x,2)"
      ]
    },
    {
      "cell_type": "markdown",
      "metadata": {
        "id": "_RKnEw4KtRIa"
      },
      "source": [
        "You can access list elements in reverse order, e.g.\n",
        "\n",
        "    li[-1]  # returns the last element of the list\n",
        "    li[-2]  # returns the second last element of the list\n",
        "    \n",
        "and so on..."
      ]
    },
    {
      "cell_type": "code",
      "execution_count": 110,
      "metadata": {
        "colab": {
          "base_uri": "https://localhost:8080/"
        },
        "id": "X15yEiSotRId",
        "outputId": "951ea848-e8f9-4d32-fd3a-dc0befa72d57"
      },
      "outputs": [
        {
          "output_type": "stream",
          "name": "stdout",
          "text": [
            "['Hello', 'Sun', 'Winter', 'We', 'are', 'the', 'knights', 'who', 'say', 'Ni', '!']\n"
          ]
        }
      ],
      "source": [
        "# Extend your list with new_list and print it\n",
        "new_list = [\"We\", \"are\", \"the\", \"knights\", \"who\", \"say\", \"Ni\", \"!\"]\n",
        "li = l + new_list\n",
        "print(li)"
      ]
    },
    {
      "cell_type": "code",
      "execution_count": 111,
      "metadata": {
        "colab": {
          "base_uri": "https://localhost:8080/"
        },
        "id": "i3k7EDdAtRIi",
        "outputId": "bef110bc-8690-4933-885f-54e4281fa073"
      },
      "outputs": [
        {
          "output_type": "stream",
          "name": "stdout",
          "text": [
            "['Hello', 'Sun', 'Winter', 'We', 'are', 'the', 'knights', 'who', 'say', 'Ekke Ekke Ekke Ekke Ptang Zoo Boing', '!']\n"
          ]
        }
      ],
      "source": [
        "# Replace \"Ni\" by \"Ekke Ekke Ekke Ekke Ptang Zoo Boing\" in the list and print it\n",
        "li[9] = 'Ekke Ekke Ekke Ekke Ptang Zoo Boing'\n",
        "print(li)"
      ]
    },
    {
      "cell_type": "code",
      "execution_count": 112,
      "metadata": {
        "colab": {
          "base_uri": "https://localhost:8080/"
        },
        "id": "2HoKEtETtRIn",
        "outputId": "5ec02e9d-a48f-46c6-f62d-01923c6829ec"
      },
      "outputs": [
        {
          "output_type": "execute_result",
          "data": {
            "text/plain": [
              "11"
            ]
          },
          "metadata": {},
          "execution_count": 112
        }
      ],
      "source": [
        "# Compute the length of the list and print it\n",
        "len(li)"
      ]
    },
    {
      "cell_type": "code",
      "execution_count": 113,
      "metadata": {
        "id": "2ZziFC0QtRIt",
        "colab": {
          "base_uri": "https://localhost:8080/",
          "height": 35
        },
        "outputId": "bd4f5d36-6053-4621-9eb8-e88c862d3a36"
      },
      "outputs": [
        {
          "output_type": "execute_result",
          "data": {
            "application/vnd.google.colaboratory.intrinsic+json": {
              "type": "string"
            },
            "text/plain": [
              "'\\nA list is mutable or immutable and a tuple is an immutable sequence containing different types (string, float)\\n'"
            ]
          },
          "metadata": {},
          "execution_count": 113
        }
      ],
      "source": [
        "# What is the difference between lists and tuples?\n",
        "\"\"\"\n",
        "A list is mutable or immutable and a tuple is an immutable sequence containing different types (string, float)\n",
        "\"\"\""
      ]
    },
    {
      "cell_type": "code",
      "execution_count": 114,
      "metadata": {
        "colab": {
          "base_uri": "https://localhost:8080/"
        },
        "id": "B2zRHa3atRIx",
        "outputId": "7b0a3140-55f5-4cef-e621-45e20e8d79b5"
      },
      "outputs": [
        {
          "output_type": "execute_result",
          "data": {
            "text/plain": [
              "dict"
            ]
          },
          "metadata": {},
          "execution_count": 114
        }
      ],
      "source": [
        "# Create a dictionary containing the following mapping:\n",
        "# \"one\" : 1\n",
        "# \"two\" : 2\n",
        "# etc. until you reach \"five\" : 5\n",
        "baz = {'one': 1, 'two': 2, 'three': 3, 'four': 4, 'five': 5}; type(baz)"
      ]
    },
    {
      "cell_type": "code",
      "execution_count": 115,
      "metadata": {
        "colab": {
          "base_uri": "https://localhost:8080/"
        },
        "id": "c_Y6qcpUtRI3",
        "outputId": "dfaeadfe-ffe1-4d1c-ff9c-bb5cb7f5099f"
      },
      "outputs": [
        {
          "output_type": "execute_result",
          "data": {
            "text/plain": [
              "dict_keys(['one', 'two', 'three', 'four', 'five'])"
            ]
          },
          "metadata": {},
          "execution_count": 115
        }
      ],
      "source": [
        "# Check if the key \"four\" is contained in the dict\n",
        "baz.keys()"
      ]
    },
    {
      "cell_type": "code",
      "source": [
        "# If four is contained in the dict, print the associated value\n",
        "baz.values()"
      ],
      "metadata": {
        "colab": {
          "base_uri": "https://localhost:8080/"
        },
        "id": "snYYRjQDwP5V",
        "outputId": "f2e63864-204c-4784-ed28-281040a17840"
      },
      "execution_count": 116,
      "outputs": [
        {
          "output_type": "execute_result",
          "data": {
            "text/plain": [
              "dict_values([1, 2, 3, 4, 5])"
            ]
          },
          "metadata": {},
          "execution_count": 116
        }
      ]
    },
    {
      "cell_type": "code",
      "execution_count": 117,
      "metadata": {
        "colab": {
          "base_uri": "https://localhost:8080/"
        },
        "id": "ECwOx4TJtRI9",
        "outputId": "46539bd1-668b-4c19-be49-7bbca010a8a9"
      },
      "outputs": [
        {
          "output_type": "stream",
          "name": "stdout",
          "text": [
            "['g', 'j', 'o', 'e', 'u', 'l', 'r', 'i', 'f', 'v', 's', 'p', 'h', 'q', 'n']\n"
          ]
        }
      ],
      "source": [
        "gibberish = list(\"fqfgsrhrfeqluihjgrshioprqoqeionfvnorfiqeo\")\n",
        "# Find all the unique letters contained in gibberish. Your answer should fit in one line of code\n",
        "unique_letters = list(set('fqfgsrhrfeqluihjgrshioprqoqeionfvnorfiqeo'))\n",
        "print(unique_letters)"
      ]
    },
    {
      "cell_type": "markdown",
      "metadata": {
        "id": "P7yBADultRJC"
      },
      "source": [
        "You should now be able to answer the following problem using dictionaries, lists and sets. Imagine you owe money to your friends because your forgot your credit card last time you went out for drinks. You want to remember how much you owe to each of them in order to refund them later. Which data structure would be useful to store this information? Use this data structure and fill it in with some debt data in the cell below:"
      ]
    },
    {
      "cell_type": "code",
      "execution_count": 118,
      "metadata": {
        "id": "suyHVgJjtRJD"
      },
      "outputs": [],
      "source": [
        "debts = {'Laura': 13, 'Paul': 22, 'Sophie': 17}"
      ]
    },
    {
      "cell_type": "markdown",
      "metadata": {
        "id": "mQQSVcCHtRJI"
      },
      "source": [
        "Another party night with more people, yet you forgot your credit card again... You meet new friends who buy you drinks. Create another data structure as above with different data, i.e. include friends that were not here during the first party and new friends."
      ]
    },
    {
      "cell_type": "code",
      "execution_count": 119,
      "metadata": {
        "id": "_cjYLMvEtRJK"
      },
      "outputs": [],
      "source": [
        "debts_2 = {'Lili': 14, 'Pierre': 21}"
      ]
    },
    {
      "cell_type": "markdown",
      "metadata": {
        "id": "Li3vPIN7tRJP"
      },
      "source": [
        "Count the number of new friends you made that second night. Print the name of the friends who bought you drinks during the second party, but not during the first."
      ]
    },
    {
      "cell_type": "code",
      "execution_count": 120,
      "metadata": {
        "colab": {
          "base_uri": "https://localhost:8080/"
        },
        "id": "1Rx2ix10tRJQ",
        "outputId": "d8133d1b-ae6b-4fd6-b4fb-8d8b78c94979"
      },
      "outputs": [
        {
          "output_type": "execute_result",
          "data": {
            "text/plain": [
              "2"
            ]
          },
          "metadata": {},
          "execution_count": 120
        }
      ],
      "source": [
        "new_friends = debts_2.keys() # should fit in one line\n",
        "nb_new_friends = len(debts_2) # should fit in one line\n",
        "nb_new_friends"
      ]
    },
    {
      "cell_type": "code",
      "source": [
        "print(new_friends)"
      ],
      "metadata": {
        "colab": {
          "base_uri": "https://localhost:8080/"
        },
        "id": "MbU5HX0e0UOW",
        "outputId": "da46a525-9432-4c22-f204-08afbb271d7d"
      },
      "execution_count": 121,
      "outputs": [
        {
          "output_type": "stream",
          "name": "stdout",
          "text": [
            "dict_keys(['Lili', 'Pierre'])\n"
          ]
        }
      ]
    },
    {
      "cell_type": "markdown",
      "metadata": {
        "collapsed": true,
        "id": "fRqhthIttRJU"
      },
      "source": [
        "## 3. Control flow\n",
        "Same as before, read the corresponding section, and answer the questions below.\n",
        "You can skip the paragraph on exceptions for now."
      ]
    },
    {
      "cell_type": "code",
      "execution_count": 122,
      "metadata": {
        "colab": {
          "base_uri": "https://localhost:8080/"
        },
        "id": "SZIDKiAntRJW",
        "outputId": "53eccfca-9611-45c1-b95f-823b585caeaa"
      },
      "outputs": [
        {
          "output_type": "stream",
          "name": "stdout",
          "text": [
            "Duh...\n"
          ]
        }
      ],
      "source": [
        "# Code the following:\n",
        "# if you have made more than 5 friends that second night, \n",
        "# print \"Yay! I'm super popular!\", else, print \"Duh...\"\n",
        "debts_2 = {'Lili': 14, 'Pierre': 21}\n",
        "if len(debts_2) > 5:\n",
        "    print('Yay! I m super popular!')\n",
        "print('Duh...')"
      ]
    },
    {
      "cell_type": "code",
      "execution_count": 123,
      "metadata": {
        "colab": {
          "base_uri": "https://localhost:8080/"
        },
        "id": "x1KK30CWtRJa",
        "outputId": "55664833-a7f0-4fe1-b13b-10b6f0cfc3cf"
      },
      "outputs": [
        {
          "output_type": "stream",
          "name": "stdout",
          "text": [
            "Thanks Lili!\n",
            "Thanks Pierre!\n"
          ]
        }
      ],
      "source": [
        "# Now, thank each new friend iteratively, i.e.\n",
        "# print \"Thanks <name of the friend>!\" using loops and string formatting (cf. section 1)\n",
        "debts_2 = {'Lili': 14, 'Pierre': 21}\n",
        "for (k, v) in debts_2.items():\n",
        "    print('Thanks {}!'.format(k, v))"
      ]
    },
    {
      "cell_type": "code",
      "source": [
        "# Sum all the number from 0 to 15 (included) using what we've seen so far (i.e. without the function sum() )\n",
        "result = 0\n",
        "n = 15\n",
        "for i in range(1, n + 1):\n",
        "    result += i\n",
        "\n",
        "print(result)"
      ],
      "metadata": {
        "colab": {
          "base_uri": "https://localhost:8080/"
        },
        "id": "HNfis0VKCEny",
        "outputId": "7d93fa75-7ae4-4cbd-a7dc-48235e0228d4"
      },
      "execution_count": 124,
      "outputs": [
        {
          "output_type": "stream",
          "name": "stdout",
          "text": [
            "120\n"
          ]
        }
      ]
    },
    {
      "cell_type": "code",
      "execution_count": 125,
      "metadata": {
        "id": "hNXGkNgitRJh"
      },
      "outputs": [],
      "source": [
        "# Note: you can break a loop with the break statement\n",
        "for i in range(136):\n",
        "    print \n",
        "    if i >= 2:\n",
        "        break"
      ]
    },
    {
      "cell_type": "code",
      "execution_count": 126,
      "metadata": {
        "colab": {
          "base_uri": "https://localhost:8080/"
        },
        "id": "1nZB8pMltRJm",
        "outputId": "a578b1f7-3fc0-47f7-9eae-766088f39f84"
      },
      "outputs": [
        {
          "output_type": "stream",
          "name": "stdout",
          "text": [
            "a 0\n",
            "b 1\n",
            "c 2\n"
          ]
        }
      ],
      "source": [
        "# enumerate function can be very useful when dealing with iterators:\n",
        "for i, value in enumerate([\"a\", \"b\", \"c\"]):\n",
        "    print(value, i)"
      ]
    },
    {
      "cell_type": "markdown",
      "metadata": {
        "id": "rSpPZ8q0tRJq"
      },
      "source": [
        "## 4. Functions\n",
        "Things are becoming more interesting. Read section 4. It's ok if you don't get the args/kwargs part. Be sure to understand basic function declaration and anonymous function declaration. Higher order functions, maps, and filters will be covered during the next lab.\n",
        "\n",
        "Write a Python function that checks whether a passed string is palindrome or not. Note: a palindrome is a word, phrase, or sequence that reads the same backward and forward, e.g. \"madam\" or \"nurses run\". Hint: strings are lists of characters e.g.\n",
        "\n",
        "    a = \"abcdef\"\n",
        "    a[2] => c\n",
        "    \n",
        "If needed, here are [some tips about string manipulation](http://www.pythonforbeginners.com/basics/string-manipulation-in-python)."
      ]
    },
    {
      "cell_type": "code",
      "execution_count": 127,
      "metadata": {
        "colab": {
          "base_uri": "https://localhost:8080/"
        },
        "id": "lSa99mbptRJr",
        "outputId": "d464dcb8-1b0b-4cbf-a4bc-01e403503c2b"
      },
      "outputs": [
        {
          "output_type": "stream",
          "name": "stdout",
          "text": [
            "True\n",
            "False\n",
            "False\n"
          ]
        }
      ],
      "source": [
        "def isPalindrome(word):\n",
        "    # Run loop from 0 to len/2\n",
        "    for i in range(0, int(len(word)/2)):\n",
        "        if word[i] != word[len(word)-i-1]:\n",
        "            return False\n",
        "    return True\n",
        " \n",
        "print(isPalindrome('aza'))        # Simple palindrome\n",
        "print(isPalindrome('nurses run')) # Palindrome containing a space\n",
        "print(isPalindrome('palindrome')) # Not a palindrome"
      ]
    },
    {
      "cell_type": "markdown",
      "metadata": {
        "id": "zB9qsMDJtRJv"
      },
      "source": [
        "Write a Python function to check whether a string is pangram or not. Note: pangrams are words or sentences containing every letter of the alphabet at least once. For example: \"The quick brown fox jumps over the lazy dog\".\n",
        "\n",
        "[Hint](https://docs.python.org/2/library/stdtypes.html#set-types-set-frozenset)"
      ]
    },
    {
      "cell_type": "code",
      "execution_count": 128,
      "metadata": {
        "colab": {
          "base_uri": "https://localhost:8080/"
        },
        "id": "klw8o3FDtRJx",
        "outputId": "3a9e936f-4594-4021-c295-bd58819094dc"
      },
      "outputs": [
        {
          "output_type": "stream",
          "name": "stdout",
          "text": [
            "True\n",
            "False\n"
          ]
        }
      ],
      "source": [
        "import string\n",
        "\n",
        "# In this function, \"alphabet\" argument has a default value: string.ascii_lowercase\n",
        "# string.ascii_lowercase contains all the letters in lowercase.\n",
        "def ispangram(string_input, alphabet=string.ascii_lowercase):   \n",
        "    alphabet = \"abcdefghijklmnopqrstuvwxyz\"\n",
        "    for char in alphabet: \n",
        "        if char not in string_input.lower(): \n",
        "            return False\n",
        "  \n",
        "    return True \n",
        "   \n",
        "print(ispangram('The quick brown fox jumps over the lazy dog'))\n",
        "print(ispangram('The quick red fox jumps over the lazy dog'))"
      ]
    },
    {
      "cell_type": "markdown",
      "metadata": {
        "collapsed": true,
        "id": "hIXo-hJ_tRJ0"
      },
      "source": [
        "### Python lambda expressions\n",
        "\n",
        "When evaluated, lambda expressions return an anonymous function, i.e. a function that is not bound to any variable (hence the \"anonymous\"). However, it is possible to assign the function to a variable. Lambda expressions are particularly useful when you need to pass a simple function into another function. To create lambda functions, we use the following syntax\n",
        "\n",
        "    lambda argument1, argument2, argument3, etc. : body_of_the_function\n",
        "\n",
        "For example, a function which takes a number and returns its square would be\n",
        "\n",
        "    lambda x: x**2\n",
        "    \n",
        "A function that takes two numbers and returns their sum:\n",
        "\n",
        "    lambda x, y: x + y\n",
        "    \n",
        "`lambda` generates a function and returns it, while `def` generates a function and assigns it to a name.  The function returned by `lambda` also automatically returns the value of its expression statement, which reduces the amount of code that needs to be written.\n",
        "\n",
        "Here are some additional references that explain lambdas: [Lambda Functions](http://www.secnetix.de/olli/Python/lambda_functions.hawk), [Lambda Tutorial](https://pythonconquerstheuniverse.wordpress.com/2011/08/29/lambda_tutorial/), and [Python Functions](http://www.bogotobogo.com/python/python_functions_lambda.php).\n",
        "\n",
        "Here is an example:"
      ]
    },
    {
      "cell_type": "code",
      "execution_count": 129,
      "metadata": {
        "colab": {
          "base_uri": "https://localhost:8080/"
        },
        "id": "Qag42QL7tRJ1",
        "outputId": "0f2532fc-e249-470a-c54c-c13c3fa3de46"
      },
      "outputs": [
        {
          "output_type": "stream",
          "name": "stdout",
          "text": [
            "<class 'function'>\n",
            "<function add_s at 0x7f9234453c20>\n",
            "dogs\n"
          ]
        }
      ],
      "source": [
        "# Function declaration using def\n",
        "def add_s(x):\n",
        "    return x + 's'\n",
        "\n",
        "print (type(add_s))\n",
        "print (add_s)\n",
        "print (add_s('dog'))"
      ]
    },
    {
      "cell_type": "code",
      "execution_count": 130,
      "metadata": {
        "colab": {
          "base_uri": "https://localhost:8080/"
        },
        "id": "6MVqBJDXtRJ4",
        "outputId": "77c5a1ac-9407-4d14-c83a-a0173a337431"
      },
      "outputs": [
        {
          "output_type": "stream",
          "name": "stdout",
          "text": [
            "<class 'function'>\n",
            "<function <lambda> at 0x7f9234455200>\n",
            "dogs\n"
          ]
        }
      ],
      "source": [
        "# Same function declared as a lambda\n",
        "add_s_lambda = lambda x: x + 's'\n",
        "print (type(add_s_lambda))\n",
        "print (add_s_lambda)  # Note that the function shows its name as <lambda>\n",
        "print (add_s_lambda('dog'))"
      ]
    },
    {
      "cell_type": "code",
      "execution_count": 131,
      "metadata": {
        "colab": {
          "base_uri": "https://localhost:8080/"
        },
        "id": "mOp4Ju79tRJ8",
        "outputId": "e7b741eb-2168-4f52-a524-3a1344658104"
      },
      "outputs": [
        {
          "output_type": "stream",
          "name": "stdout",
          "text": [
            "10\n",
            "True\n"
          ]
        }
      ],
      "source": [
        "# Code a function using a lambda expression which takes\n",
        "# a number and returns this number multiplied by two.\n",
        "multiply_by_two = lambda x: x*2\n",
        "print (multiply_by_two(5))\n",
        "\n",
        "print(multiply_by_two(10) == 20)"
      ]
    },
    {
      "cell_type": "markdown",
      "metadata": {
        "id": "nJlViCP6tRKI"
      },
      "source": [
        "Observe the behavior of the following code:"
      ]
    },
    {
      "cell_type": "code",
      "source": [
        "def add(x, y):\n",
        "    \"\"\"Add two values\"\"\"\n",
        "\n",
        "    print(\"Result = \", x + y);\n",
        "    pass;  "
      ],
      "metadata": {
        "id": "JdvlEM0-d-60"
      },
      "execution_count": 132,
      "outputs": []
    },
    {
      "cell_type": "code",
      "execution_count": 133,
      "metadata": {
        "id": "BaBVXHRftRKJ",
        "colab": {
          "base_uri": "https://localhost:8080/"
        },
        "outputId": "7f4197ac-7272-4366-e340-3dd6d705af6d"
      },
      "outputs": [
        {
          "output_type": "stream",
          "name": "stdout",
          "text": [
            "Result =  3\n",
            "None\n",
            "Result =  1\n",
            "None\n"
          ]
        }
      ],
      "source": [
        "def add(x, y):\n",
        "    \"\"\"Add two values\"\"\"\n",
        "    print(\"Result = \", x + y);\n",
        "    pass; \n",
        "\n",
        "def sub(x, y):\n",
        "    \"\"\"Substract y from x\"\"\"\n",
        "    print(\"Result = \", y - x);\n",
        "    pass; \n",
        "\n",
        "functions = [add, sub]\n",
        "print(functions[0](1, 2))\n",
        "print(functions[1](3, 4))"
      ]
    },
    {
      "cell_type": "markdown",
      "metadata": {
        "id": "3ULfcjzvtRKM"
      },
      "source": [
        "Code the same functionality, using lambda expressions:"
      ]
    },
    {
      "cell_type": "code",
      "execution_count": 134,
      "metadata": {
        "id": "kyrrjXjptRKN",
        "colab": {
          "base_uri": "https://localhost:8080/"
        },
        "outputId": "90f4e2a8-72a6-4391-db51-6ea52e5a8baf"
      },
      "outputs": [
        {
          "output_type": "stream",
          "name": "stdout",
          "text": [
            "True\n",
            "False\n"
          ]
        }
      ],
      "source": [
        "lambda_functions = [lambda x,y: x + y , lambda x,y: y - x]\n",
        "\n",
        "print(lambda_functions[0](1, 2) == 3)\n",
        "print(lambda_functions[1](3, 4) == -1)"
      ]
    },
    {
      "cell_type": "markdown",
      "metadata": {
        "id": "ED1XVrZxtRKR"
      },
      "source": [
        "Lambda expressions can be used to generate functions that take in zero or more parameters. The syntax for `lambda` allows for multiple ways to define the same function.  For example, we might want to create a function that takes in a single parameter, where the parameter is a tuple consisting of two values, and the function adds the two values.  The syntax could be either \n",
        "\n",
        "    lambda x: x[0] + x[1]\n",
        "    \n",
        "or \n",
        "    \n",
        "    lambda (x, y): x + y\n",
        "\n",
        "If we called either function on the tuple `(1, 2)` it would return `3`."
      ]
    },
    {
      "cell_type": "code",
      "execution_count": 135,
      "metadata": {
        "id": "Zj2ZkF7InBhn",
        "colab": {
          "base_uri": "https://localhost:8080/"
        },
        "outputId": "266ac1cb-bc83-484b-e83d-aee1c8154088"
      },
      "outputs": [
        {
          "output_type": "stream",
          "name": "stdout",
          "text": [
            "add_two_1((1,2), (3,4)) = (4, 6)\n",
            "add_two_2(1,2,3,4) = (4, 6)\n"
          ]
        }
      ],
      "source": [
        "# Example:\n",
        "add_two_1 = lambda x, y: (x[0] + y[0], x[1] + y[1])\n",
        "add_two_2 = lambda x0, x1, y0, y1: (x0 + y0, x1 + y1)\n",
        "print('add_two_1((1,2), (3,4)) = {0}'.format(add_two_1((1,2), (3,4))))\n",
        "print('add_two_2(1,2,3,4) = {0}'.format(add_two_2(1,2,3,4)))"
      ]
    },
    {
      "cell_type": "code",
      "execution_count": 136,
      "metadata": {
        "id": "GDn7Z7dstRKV",
        "colab": {
          "base_uri": "https://localhost:8080/"
        },
        "outputId": "462bddf2-d9e0-4447-d1d5-b39200f7d9a6"
      },
      "outputs": [
        {
          "output_type": "stream",
          "name": "stdout",
          "text": [
            "True\n",
            "False\n"
          ]
        }
      ],
      "source": [
        "# Use both syntaxes to create a function that takes in a tuple of three values and reverses their order\n",
        "# E.g. (1, 2, 3) => (3, 2, 1)\n",
        "reverse1 = lambda x: x[::-1]\n",
        "reverse2 = lambda x0, x1, x2: (x0, x1, x2)[1]\n",
        "\n",
        "print(reverse1((1, 2, 3)) == (3, 2, 1))\n",
        "print(reverse2(1, 2, 3) == (3, 2, 1))"
      ]
    },
    {
      "cell_type": "markdown",
      "metadata": {
        "id": "GuRsJH2btRKY"
      },
      "source": [
        "Lambda expressions allow you to reduce the size of your code, but they are limited to simple logic. The following Python keywords refer to statements that cannot be used in a lambda expression: `assert`, `pass`, `del`, `print`, `return`, `yield`, `raise`, `break`, `continue`, `import`, `global`, and `exec`.  Assignment statements (`=`) and augmented assignment statements (e.g. `+=`) cannot be used either. If more complex logic is necessary, use `def` in place of `lambda`."
      ]
    },
    {
      "cell_type": "markdown",
      "metadata": {
        "id": "C8oYTUJDtRKZ"
      },
      "source": [
        "## 5. Classes\n",
        "Classes allow you to create objects. Object Oriented Programming (OOP) can be a very powerful paradigm. If done well, OOP  allows you to improve the modularity and reusability of your code, but that's the subject of an entire other course. \n",
        "Here is a *very* short introduction to it.\n",
        "\n",
        "By convention, class names are written in camel case, e.g. `MyBeautifulClass`, while variable and function names are written in snake case, e.g. `my_variable`, `my_very_complex_function`\n",
        "\n",
        "Classes contain methods (i.e. functions owned by the class) and attributes (i.e. variables owned by the class). \n",
        "When you define a class, first thing to do is to define a specific method, the constructor. In Python, the constructor is called `__init__`. This method is used to create the instances of an object. Example:\n",
        "\n",
        "    class MyClass:\n",
        "    \n",
        "        def __init__(self, first_attribute, second_attribute):\n",
        "            self.first_attribute = first_attribute\n",
        "            self.second_attribute = second_attribute\n",
        "            \n",
        "This class has two attributes, and one (hidden) method, the constructor. To create an instance of this class, one simply does:\n",
        "\n",
        "    instance_example = MyClass(1, \"foo\")\n",
        "    \n",
        "Then, the attributes can easily be accessed to:\n",
        "\n",
        "    instance_example.first_attribute  # => 1\n",
        "    instance_example.first_attribute  # => \"foo\""
      ]
    },
    {
      "cell_type": "code",
      "execution_count": 137,
      "metadata": {
        "id": "keBR9vgQtRKc",
        "colab": {
          "base_uri": "https://localhost:8080/"
        },
        "outputId": "4c60435c-c784-49ee-d3ad-3e6cfff61035"
      },
      "outputs": [
        {
          "output_type": "stream",
          "name": "stdout",
          "text": [
            "1\n",
            "3\n"
          ]
        }
      ],
      "source": [
        "# Run this example\n",
        "class MyClass:\n",
        "    \n",
        "    def __init__(self, first_attribute, second_attribute):\n",
        "        self.first_attribute = first_attribute\n",
        "        self.second_attribute = second_attribute\n",
        "            \n",
        "instance_example = MyClass(1, \"foo\") \n",
        "print(instance_example.first_attribute)\n",
        "instance_example.__init__(3,4)  # In real life, it is rare to reinit an object.\n",
        "print(instance_example.first_attribute)"
      ]
    },
    {
      "cell_type": "markdown",
      "metadata": {
        "id": "8AO18Rz7tRKf"
      },
      "source": [
        "`self` denotes the object itself. When you declare a method, you have to pass `self` as the first argument of the method:\n",
        "\n",
        "class MyClass:\n",
        "    \n",
        "    def __init__(self, first_attribute, second_attribute):\n",
        "        self.first_attribute = first_attribute\n",
        "        self.second_attribute = second_attribute\n",
        "   \n",
        "    def method_baz(self):\n",
        "        print \"Hello! I'm a method! I have two attributes, initialized with values %s, %s\"%(self.first_attribute, self.second_attribute)\n",
        "        \n",
        "indeed, when we call\n",
        "    \n",
        "    instance_example = MyClass(1, \"foo\") \n",
        "    instance_example.method_baz()\n",
        "    \n",
        "the `self` object is implicitely passed to `method_baz`as an argument. Think of the method call as the following function call\n",
        "\n",
        "    method_baz(instance_example)"
      ]
    },
    {
      "cell_type": "code",
      "execution_count": 138,
      "metadata": {
        "id": "oZde0pPntRKg",
        "colab": {
          "base_uri": "https://localhost:8080/"
        },
        "outputId": "97198871-60f2-43d3-ce3e-1dff09786124"
      },
      "outputs": [
        {
          "output_type": "stream",
          "name": "stdout",
          "text": [
            "Hello! I'm a method! My class has two attributes, of value 1, foo\n"
          ]
        }
      ],
      "source": [
        "# Run this example\n",
        "class MyClass:\n",
        "    \n",
        "    def __init__(self, first_attribute, second_attribute):\n",
        "        self.first_attribute = first_attribute\n",
        "        self.second_attribute = second_attribute\n",
        "    \n",
        "    def class_method(self):\n",
        "        print(\"Hello! I'm a method! My class has two attributes, of value {0}, {1}\".format(self.first_attribute, self.second_attribute))\n",
        "            \n",
        "instance_example = MyClass(1, \"foo\") \n",
        "# Call to a class method\n",
        "instance_example.class_method()"
      ]
    },
    {
      "cell_type": "markdown",
      "metadata": {
        "id": "fLUmPnKntRKo"
      },
      "source": [
        "Now, the tricky part. You can declare **static** methods, i.e. methods that don't need to access the data contained in `self` to work properly. Such methods do not require the `self` argument as they do not use any instance data. They are implemented in the following way:"
      ]
    },
    {
      "cell_type": "code",
      "execution_count": 139,
      "metadata": {
        "id": "ZfkEAQbGtRKp",
        "colab": {
          "base_uri": "https://localhost:8080/"
        },
        "outputId": "8cf66320-8081-4e66-ba91-716ca48b05c9"
      },
      "outputs": [
        {
          "output_type": "stream",
          "name": "stdout",
          "text": [
            "Hello! I'm a method! My class has two attributes, of value 1, foo\n",
            "I'm a static method!\n"
          ]
        }
      ],
      "source": [
        "# Run this example\n",
        "class MyClass:\n",
        "    \n",
        "    def __init__(self, first_attribute, second_attribute):\n",
        "        self.first_attribute = first_attribute\n",
        "        self.second_attribute = second_attribute\n",
        "    \n",
        "    def class_method(self):\n",
        "        print(\"Hello! I'm a method! My class has two attributes, of value {0}, {1}\".format(self.first_attribute, self.second_attribute))\n",
        "         \n",
        "    @staticmethod\n",
        "    def static_method():\n",
        "        print(\"I'm a static method!\")\n",
        "            \n",
        "instance_example = MyClass(1, \"foo\") \n",
        "# Call to a class method\n",
        "instance_example.class_method()\n",
        "# Call to a static method\n",
        "instance_example.static_method()"
      ]
    },
    {
      "cell_type": "code",
      "execution_count": 140,
      "metadata": {
        "id": "kjsCfutptRKu",
        "colab": {
          "base_uri": "https://localhost:8080/"
        },
        "outputId": "a72f7460-18e1-43b1-fa84-ed4ca31ef62c"
      },
      "outputs": [
        {
          "output_type": "stream",
          "name": "stdout",
          "text": [
            "I'm a static method!\n"
          ]
        }
      ],
      "source": [
        "# Call to a static method without class instanciation\n",
        "MyClass.static_method()"
      ]
    },
    {
      "cell_type": "code",
      "execution_count": 141,
      "metadata": {
        "id": "WjIceCletRKy"
      },
      "outputs": [],
      "source": [
        "# Call to a class method without class instanciation: raises an error\n",
        "# MyClass.class_method()\n",
        "# => TypeError: unbound method class_method() must be called with MyClass instance as first argument (got nothing instead)"
      ]
    },
    {
      "cell_type": "markdown",
      "metadata": {
        "id": "WrGtoiEptRK1"
      },
      "source": [
        "You can set attributes without passing them to the constructor:"
      ]
    },
    {
      "cell_type": "code",
      "execution_count": 142,
      "metadata": {
        "id": "1EtLi3gRtRK2",
        "colab": {
          "base_uri": "https://localhost:8080/"
        },
        "outputId": "b2721a90-8810-4f8f-ba18-c1c73c626e43"
      },
      "outputs": [
        {
          "output_type": "stream",
          "name": "stdout",
          "text": [
            "42\n"
          ]
        }
      ],
      "source": [
        "# Run this example\n",
        "class MyClass:\n",
        "    \n",
        "    default_attribute = 42\n",
        "    \n",
        "    def __init__(self, first_attribute, second_attribute):\n",
        "        self.first_attribute = first_attribute\n",
        "        self.second_attribute = second_attribute\n",
        "    \n",
        "    def method_baz(self):\n",
        "        print(\"Hello! I'm a method! I have two attributes, initialized with values %s, %s\"%(self.first_attribute, self.second_attribute))\n",
        "        \n",
        "    @staticmethod\n",
        "    def static_method():\n",
        "        print(\"I'm a static method!\")\n",
        "            \n",
        "instance_example = MyClass(1, \"foo\") \n",
        "print(instance_example.default_attribute)"
      ]
    },
    {
      "cell_type": "code",
      "execution_count": 143,
      "metadata": {
        "id": "9f2LfrfEtRK6",
        "colab": {
          "base_uri": "https://localhost:8080/"
        },
        "outputId": "c8f38d3d-b261-4761-bdad-035d0e8287bb"
      },
      "outputs": [
        {
          "output_type": "stream",
          "name": "stdout",
          "text": [
            "True\n",
            "True\n",
            "True\n",
            "Do you like rectangles?\n",
            "False\n"
          ]
        }
      ],
      "source": [
        "# Write a Python class named Rectangle which is \n",
        "# constructed by a length and width \n",
        "# and has two class methods\n",
        "# - \"rectangle_area\", which computes the area of a rectangle.\n",
        "# - \"rectangle_perimeter\", which computes the perimeter of a rectangle.\n",
        "#\n",
        "# The Rectangle class should have an attribute n_edges equal to 4\n",
        "# which should not be initialized by the __init__ constructor.\n",
        "#\n",
        "# Declare a static method \"talk\" that returns \"Do you like rectangles?\" when called\n",
        "\n",
        "class Rectangle: \n",
        "\n",
        "    n_edges = 4\n",
        "    \n",
        "    def __init__(self, length, width):\n",
        "        self.length = length\n",
        "        self.width  = width\n",
        "\n",
        "    def rectangle_area(self):\n",
        "        return self.length*self.width\n",
        "    \n",
        "    def rectangle_perimeter(self):\n",
        "        return 2*(self.length+self.width)\n",
        "    \n",
        "    @staticmethod\n",
        "    def talk():\n",
        "        print(\"Do you like rectangles?\")\n",
        "\n",
        "\n",
        "new_rectangle = Rectangle(12, 10)\n",
        "print(new_rectangle.rectangle_area() == 120)# rectangle_area method\n",
        "print(new_rectangle.rectangle_perimeter() == 44) # rectangle_area method\n",
        "print(Rectangle.n_edges == 4) # constant attibute\n",
        "print(Rectangle.talk() == \"Do you like rectangles?\") # Rectangle talk static method"
      ]
    },
    {
      "cell_type": "markdown",
      "metadata": {
        "id": "9FQ3U-MJnBhr"
      },
      "source": [
        "In machine learning, when you're manipulating large images, you often need to break the diwn into smaller, more manageable images.\n",
        "- Modify the previous rectangle class to include a list of patches.\n",
        "- Write a Python class named Patch which is a square of size 1x1. Each patch should be identified by his coordinates.\n",
        "- Use the [\\_\\_iter\\_\\_](https://www.datacamp.com/community/tutorials/python-iterator-tutorial) function to create a get_next_patch() in the Rectangle class."
      ]
    },
    {
      "cell_type": "code",
      "execution_count": 144,
      "metadata": {
        "id": "roCrrUkWnBhr",
        "colab": {
          "base_uri": "https://localhost:8080/"
        },
        "outputId": "ba0591de-e952-4191-fb5a-d93a5221936d"
      },
      "outputs": [
        {
          "output_type": "stream",
          "name": "stdout",
          "text": [
            "(1, 0)\n",
            "(2, 0)\n",
            "(3, 0)\n",
            "(4, 0)\n",
            "(5, 0)\n",
            "(6, 0)\n",
            "(7, 0)\n",
            "(8, 0)\n",
            "(9, 0)\n",
            "(0, 1)\n",
            "(1, 1)\n",
            "(2, 1)\n",
            "(3, 1)\n",
            "(4, 1)\n",
            "(5, 1)\n",
            "(6, 1)\n",
            "(7, 1)\n",
            "(8, 1)\n",
            "(9, 1)\n",
            "(0, 2)\n",
            "(1, 2)\n",
            "(2, 2)\n",
            "(3, 2)\n",
            "(4, 2)\n",
            "(5, 2)\n",
            "(6, 2)\n",
            "(7, 2)\n",
            "(8, 2)\n",
            "(9, 2)\n",
            "(0, 3)\n",
            "(1, 3)\n",
            "(2, 3)\n",
            "(3, 3)\n",
            "(4, 3)\n",
            "(5, 3)\n",
            "(6, 3)\n",
            "(7, 3)\n",
            "(8, 3)\n",
            "(9, 3)\n",
            "(0, 4)\n",
            "(1, 4)\n",
            "(2, 4)\n",
            "(3, 4)\n",
            "(4, 4)\n",
            "(5, 4)\n",
            "(6, 4)\n",
            "(7, 4)\n",
            "(8, 4)\n",
            "(9, 4)\n",
            "(0, 5)\n",
            "(1, 5)\n",
            "(2, 5)\n",
            "(3, 5)\n",
            "(4, 5)\n",
            "(5, 5)\n",
            "(6, 5)\n",
            "(7, 5)\n",
            "(8, 5)\n",
            "(9, 5)\n",
            "(0, 6)\n",
            "(1, 6)\n",
            "(2, 6)\n",
            "(3, 6)\n",
            "(4, 6)\n",
            "(5, 6)\n",
            "(6, 6)\n",
            "(7, 6)\n",
            "(8, 6)\n",
            "(9, 6)\n",
            "(0, 7)\n",
            "(1, 7)\n",
            "(2, 7)\n",
            "(3, 7)\n",
            "(4, 7)\n",
            "(5, 7)\n",
            "(6, 7)\n",
            "(7, 7)\n",
            "(8, 7)\n",
            "(9, 7)\n",
            "(0, 8)\n",
            "(1, 8)\n",
            "(2, 8)\n",
            "(3, 8)\n",
            "(4, 8)\n",
            "(5, 8)\n",
            "(6, 8)\n",
            "(7, 8)\n",
            "(8, 8)\n",
            "(9, 8)\n",
            "(0, 9)\n",
            "(1, 9)\n",
            "(2, 9)\n",
            "(3, 9)\n",
            "(4, 9)\n",
            "(5, 9)\n",
            "(6, 9)\n",
            "(7, 9)\n",
            "(8, 9)\n",
            "(9, 9)\n",
            "(0, 10)\n",
            "(1, 10)\n",
            "(2, 10)\n",
            "(3, 10)\n",
            "(4, 10)\n",
            "(5, 10)\n",
            "(6, 10)\n",
            "(7, 10)\n",
            "(8, 10)\n",
            "(9, 10)\n",
            "(0, 11)\n",
            "(1, 11)\n",
            "(2, 11)\n",
            "(3, 11)\n",
            "(4, 11)\n",
            "(5, 11)\n",
            "(6, 11)\n",
            "(7, 11)\n",
            "(8, 11)\n",
            "(9, 11)\n",
            "end 119\n"
          ]
        }
      ],
      "source": [
        "class Rectangle :\n",
        "\n",
        "    n_edges=4\n",
        "    def __init__(self, length, width):\n",
        "        self.length = length\n",
        "        self.width  = width\n",
        "\n",
        "\n",
        "\n",
        "class Patch :\n",
        "\n",
        "    def __init__(self,rectangle):\n",
        "        self.length = 1\n",
        "        self.abs_max=rectangle.width\n",
        "        self.ord_max=rectangle.length\n",
        "\n",
        "    def __iter__(self):\n",
        "        self.absi=1\n",
        "        self.ordi=1\n",
        "        return self\n",
        "    \n",
        "    def __next__(self):\n",
        "        \n",
        "        if self.absi+1<=self.abs_max:\n",
        "            self.absi+=1\n",
        "        elif self.absi+1>self.abs_max:\n",
        "            self.absi=1\n",
        "            if self.ordi+1<=self.ord_max:\n",
        "                self.ordi+=1\n",
        "            elif self.ordi+1>self.ord_max:\n",
        "                raise StopIteration\n",
        "        return(self.absi-1,self.ordi-1)\n",
        "\n",
        "patchi=Patch(new_rectangle)\n",
        "decompo=iter(patchi)\n",
        "i=0\n",
        "try:\n",
        "    while True:\n",
        "        print(next(decompo))\n",
        "        i+=1\n",
        "except:\n",
        "    print(\"end\",i)\n",
        "\n",
        "#    def __str__() = \n",
        "#        ???\n",
        "\n",
        "#rectangle = ???\n",
        "\n",
        "#for patch in rectangle :\n",
        "#    print(patch)\n",
        "# should print all the patches in your rectangle"
      ]
    },
    {
      "cell_type": "code",
      "execution_count": null,
      "metadata": {
        "id": "zLo1690Jw0au"
      },
      "outputs": [],
      "source": [
        "Use the same approach to create two classes :\n",
        "- Sentence which is a list of words\n",
        "- Word which encapsulate a string with a specific order within the sentence\n",
        "Implement both [\\_\\_str\\_\\_](https://docs.python.org/3/reference/datamodel.html?highlight=__str__#object.__str__) and [\\_\\_repr\\_\\_](https://docs.python.org/3/reference/datamodel.html?highlight=__str__#object.__repr__) for both classes. `__str__` should be readable when `__repr__` should offer you information to helps you debug.\n",
        "In Natural Language Processing you'll use a lot of n-grams (which is the set of *n* sequential words). So you should implement a get_next_bigrams() method in the Sentence class. For instance give the sentence \"My name is Brian\", it should return an element of the list of bigrams ```[\"My name\", \"name is\", \"is Brian\"]```"
      ]
    },
    {
      "cell_type": "code",
      "execution_count": 147,
      "metadata": {
        "id": "a_Ca90vonBhs"
      },
      "outputs": [],
      "source": [
        "class Sentence :\n",
        "    def __init__(self, txt):\n",
        "        self.txt = txt\n",
        "        self.word_l = self.text.split()\n",
        "\n",
        "class Word :\n",
        "\n",
        "    def __init__(self, args):\n",
        "        self.x = args[0]\n",
        "        self.y = args[1]\n",
        "        self.z = args[2]\n",
        "\n",
        "    def __repr__(self):\n",
        "        return \"Vector3([{0},{1},{2}])\".format(self.x, self.y, self.z)\n",
        "        \n",
        "    def __str__(self):\n",
        "        return \"x: {0}, y: {1}, z: {2}\".format(self.x, self.y, self.z)"
      ]
    },
    {
      "cell_type": "code",
      "execution_count": null,
      "metadata": {
        "id": "9ZJc_Iu_tRLC"
      },
      "outputs": [],
      "source": [
        "# 6. Modules\n",
        "Finally one really important part of python is the ability to create modules.\n",
        "Read https://docs.python.org/fr/3/tutorial/modules.html and create a module named geo with the classes Rectangle & Patch.\n",
        "Import the ```geo``` module and demonstrate the different calls.\n",
        "\n",
        "Repeat the operation with an ```NLP``` module to encapsulate the classes Sentence and Word.\n",
        "In Natural Language Processing you'll use a lot of n-grams (which is the set of *n* sequential words). So you should implement a ```get_bigrams(sentence)``` method who will return a list of bigrams."
      ]
    },
    {
      "cell_type": "code",
      "source": [
        "pip install geopy"
      ],
      "metadata": {
        "colab": {
          "base_uri": "https://localhost:8080/"
        },
        "id": "VotmJSvJD5wd",
        "outputId": "f865fe3c-d56e-4548-cc70-74f3482da7bc"
      },
      "execution_count": 154,
      "outputs": [
        {
          "output_type": "stream",
          "name": "stdout",
          "text": [
            "Requirement already satisfied: geopy in /usr/local/lib/python3.7/dist-packages (1.17.0)\n",
            "Requirement already satisfied: geographiclib<2,>=1.49 in /usr/local/lib/python3.7/dist-packages (from geopy) (1.52)\n"
          ]
        }
      ]
    },
    {
      "cell_type": "code",
      "execution_count": null,
      "metadata": {
        "id": "unEjjko2nBhs"
      },
      "outputs": [],
      "source": [
        "import ???\n",
        "\n",
        "rectangle = ???\n",
        "patch = ???\n",
        "\n",
        "???"
      ]
    },
    {
      "cell_type": "code",
      "source": [
        "import nltk\n",
        "nltk.download('punkt')\n",
        "\n",
        "word_data = \"My name is Brian\"\n",
        "nltk_tokens = nltk.word_tokenize(word_data)  \t\n",
        "\n",
        "print(list(nltk.bigrams(nltk_tokens)))\n"
      ],
      "metadata": {
        "colab": {
          "base_uri": "https://localhost:8080/"
        },
        "id": "zBJ7vExL6hik",
        "outputId": "79a816bc-cd80-4153-f3eb-467de13f8231"
      },
      "execution_count": 149,
      "outputs": [
        {
          "output_type": "stream",
          "name": "stdout",
          "text": [
            "[nltk_data] Downloading package punkt to /root/nltk_data...\n",
            "[nltk_data]   Package punkt is already up-to-date!\n",
            "[('My', 'name'), ('name', 'is'), ('is', 'Brian')]\n"
          ]
        }
      ]
    },
    {
      "cell_type": "code",
      "source": [
        "def n_grams(s, n=2, i=0):\n",
        "     while len(s[i:i+n]) == n:\n",
        "         yield s[i:i+n]\n",
        "         i += 1\n",
        "\n",
        "txt = 'My name is Brian'\n",
        "\n",
        "ugr = n_grams(txt.split(), n=1)\n",
        "list(ugr)"
      ],
      "metadata": {
        "colab": {
          "base_uri": "https://localhost:8080/"
        },
        "id": "idUh-00j7hd3",
        "outputId": "8ab4abdf-ac27-45a0-dd88-817a079e08ef"
      },
      "execution_count": 150,
      "outputs": [
        {
          "output_type": "execute_result",
          "data": {
            "text/plain": [
              "[['My'], ['name'], ['is'], ['Brian']]"
            ]
          },
          "metadata": {},
          "execution_count": 150
        }
      ]
    },
    {
      "cell_type": "code",
      "source": [
        "import nltk\n",
        "from nltk.util import ngrams\n",
        "\n",
        "def get_next_bigrams(sentence, n):\n",
        "    n_grams = ngrams(nltk.word_tokenize(sentence), n)\n",
        "    return [' '.join(grams) for grams in n_grams]\n",
        "\n",
        "sentence = 'My name is Brian'\n",
        "\n",
        "print(get_next_bigrams(sentence, 2))"
      ],
      "metadata": {
        "colab": {
          "base_uri": "https://localhost:8080/"
        },
        "id": "tR0U4JP38GP5",
        "outputId": "c927deed-50ce-4147-829f-0835272290f8"
      },
      "execution_count": 151,
      "outputs": [
        {
          "output_type": "stream",
          "name": "stdout",
          "text": [
            "['My name', 'name is', 'is Brian']\n"
          ]
        }
      ]
    },
    {
      "cell_type": "markdown",
      "metadata": {
        "id": "W-_RA6_dnBht"
      },
      "source": [
        "# 7. Coding style\n",
        "\n",
        "You'll often ask yourself about which letters should be capital or if you should use _ or other characters.\n",
        "\n",
        "To help you decide, python comes with PEP-8 which is a set of recommandation.\n",
        "\n",
        "It is highly advised to read PEP-8 and to apply the rules whenever it's applicable.\n",
        "\n",
        "You'll get point for style in your code (I mean, you will lose points if the code is not readable).\n",
        "\n",
        "Fortunately, [the rules of PEP-8 are not perfect and should not always be followed](https://www.youtube.com/watch?v=wf-BqAjZb8M)."
      ]
    },
    {
      "cell_type": "code",
      "execution_count": null,
      "metadata": {
        "id": "15uY3YblnBht"
      },
      "outputs": [],
      "source": [
        "# You should create a github account before the next session :\n",
        "student_1_github_login =\n",
        "student_2_github_login = "
      ]
    },
    {
      "cell_type": "markdown",
      "metadata": {
        "id": "m5UTrCzjtRLF"
      },
      "source": [
        "Congratulations, you've reched the end of this notebook. =)"
      ]
    }
  ]
}
